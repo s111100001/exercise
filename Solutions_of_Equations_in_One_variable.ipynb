{
  "nbformat": 4,
  "nbformat_minor": 0,
  "metadata": {
    "colab": {
      "name": "Solutions of Equations in One variable.ipynb",
      "provenance": [],
      "collapsed_sections": [],
      "authorship_tag": "ABX9TyNjjLMjyG+ynV1jGJkBG1gm",
      "include_colab_link": true
    },
    "kernelspec": {
      "name": "python3",
      "display_name": "Python 3"
    }
  },
  "cells": [
    {
      "cell_type": "markdown",
      "metadata": {
        "id": "view-in-github",
        "colab_type": "text"
      },
      "source": [
        "<a href=\"https://colab.research.google.com/github/s111100001/exercise/blob/master/Solutions_of_Equations_in_One_variable.ipynb\" target=\"_parent\"><img src=\"https://colab.research.google.com/assets/colab-badge.svg\" alt=\"Open In Colab\"/></a>"
      ]
    },
    {
      "cell_type": "markdown",
      "metadata": {
        "id": "2eeZ7ItW6Fwi",
        "colab_type": "text"
      },
      "source": [
        "# **To find a solution to f(x)=0 given the continuous function f on the interval [a,b],where f(a) and f(b) have opposite signs**\n",
        "在a,b區間內找出f(x)=0的解\n",
        "\n",
        "\n"
      ]
    },
    {
      "cell_type": "markdown",
      "metadata": {
        "id": "k9F0moQ169dj",
        "colab_type": "text"
      },
      "source": [
        "### f(x) = -x^3-cosx , [a,b]=[-1,0]"
      ]
    },
    {
      "cell_type": "code",
      "metadata": {
        "id": "sKGW2IfU7xmk",
        "colab_type": "code",
        "colab": {}
      },
      "source": [
        "import math\n",
        "def f(x): ## 函數的方程式\n",
        "  A = -x**3-math.cos(x)\n",
        "  return A\n",
        "def df(x): ## 函數的微分\n",
        "  A = -3*x**2+math.sin(x)\n",
        "  return A"
      ],
      "execution_count": 0,
      "outputs": []
    },
    {
      "cell_type": "markdown",
      "metadata": {
        "id": "HfrQFS9I58rb",
        "colab_type": "text"
      },
      "source": [
        "## Bisection Method"
      ]
    },
    {
      "cell_type": "markdown",
      "metadata": {
        "id": "SmkT2G_p2vsh",
        "colab_type": "text"
      },
      "source": [
        "若a,b區間有解，找出a,b兩點的中點代入函數，若與f(a)異號，設中點與a為新的區間，反之，設中點與b為新的區間，持續將範圍縮小直到找到代入函數為0或是小於誤差值\n"
      ]
    },
    {
      "cell_type": "code",
      "metadata": {
        "id": "FCGwq61Z6Etr",
        "colab_type": "code",
        "outputId": "f843b69c-3fd5-4ab0-a72f-ddd010ae27ba",
        "colab": {
          "base_uri": "https://localhost:8080/",
          "height": 34
        }
      },
      "source": [
        "i=1;n=100; ## n為最多迭代次數\n",
        "a=-1;b=0;tol=0.0001;## tol為誤差值\n",
        "FA=f(a) \n",
        "while i<=n:\n",
        "  p=a+(b-a)/2  ## 將區間剖半\n",
        "  FP=f(p)\n",
        "  if FP==0 or (b-a)/2<tol: ## 判斷是否繼續\n",
        "    print('x= %13.10f'%(p)+' f(x)=0 迭代次數n= %d'%(i))\n",
        "    break\n",
        "  i=i+1\n",
        "  if FA*FP > 0:  ## 判斷接下來要算哪個區間\n",
        "    a=p;FA=FP;\n",
        "  else:\n",
        "    b=p\n",
        "  if i==n:\n",
        "    print('method failed') ## 若顯示method failed可能是迭代次數不夠多\n",
        "  \n"
      ],
      "execution_count": 0,
      "outputs": [
        {
          "output_type": "stream",
          "text": [
            "x= -0.8654174805 f(x)=0 迭代次數n= 14\n"
          ],
          "name": "stdout"
        }
      ]
    },
    {
      "cell_type": "markdown",
      "metadata": {
        "id": "rx3hxHBzKWln",
        "colab_type": "text"
      },
      "source": [
        "## Fixed-Point Iteration"
      ]
    },
    {
      "cell_type": "markdown",
      "metadata": {
        "id": "-8o8Jv7A-1-u",
        "colab_type": "text"
      },
      "source": [
        "找到輸入數值，讓輸出和輸入完全一樣。這樣的輸入稱作fixed point。持續代入前一次所算出來的數值，藉由找到f(x)與y=x這條線相連的點來找出我們要的答案，也就是得到fixed point，如果運氣不好或是函數不好可能會找不到"
      ]
    },
    {
      "cell_type": "code",
      "metadata": {
        "id": "CmOcBE7HKVlw",
        "colab_type": "code",
        "outputId": "cc8f01e6-5c3a-4596-c292-658ff4381f96",
        "colab": {
          "base_uri": "https://localhost:8080/",
          "height": 34
        }
      },
      "source": [
        "i=1;a=-1;n=10;tol=0.0001\n",
        "while i<=n:\n",
        "  p=f(a) ## 代入前一次的數值\n",
        "  if abs(p-a)<tol:\n",
        "    print('x= %13.10f'%(p)+' f(x)=0 迭代次數n= %d'%(i))\n",
        "    break\n",
        "  i=i+1\n",
        "  a=p ## 代入前一次的數值\n",
        "  if i==n:\n",
        "    print('method failed')## 若顯示method failed可能是迭代次數不夠多 或是運氣不好"
      ],
      "execution_count": 0,
      "outputs": [
        {
          "output_type": "stream",
          "text": [
            "method failed\n"
          ],
          "name": "stdout"
        }
      ]
    },
    {
      "cell_type": "markdown",
      "metadata": {
        "id": "A-Fga5WHN5W_",
        "colab_type": "text"
      },
      "source": [
        "## Newton's Method"
      ]
    },
    {
      "cell_type": "markdown",
      "metadata": {
        "id": "vZ3OvyliIGH3",
        "colab_type": "text"
      },
      "source": [
        "取函數線上的一個點a然後計算那個點a的斜率，找出與點a切線交於x軸的點的x座標，代入函數得到新點a，持續迭代縮小斜率範圍找出答案"
      ]
    },
    {
      "cell_type": "code",
      "metadata": {
        "id": "QqbaraVD6yyg",
        "colab_type": "code",
        "outputId": "f776f525-6ff5-4b09-f168-166cef6750af",
        "colab": {
          "base_uri": "https://localhost:8080/",
          "height": 34
        }
      },
      "source": [
        "i=1;a=-1;n=100;\n",
        "while i<=n:\n",
        "  p=a-f(a)/df(a) ## 計算切線點\n",
        "  if abs(p-a)<0.0001:\n",
        "    print('x= %13.10f'%(p)+' f(x)=0 迭代次數n= %d'%(i))\n",
        "    break\n",
        "  i=i+1\n",
        "  a=p ## 代換兩個新點\n",
        "  if i==n:\n",
        "    print('method failed')## 若顯示method failed可能是迭代次數不夠多\n",
        "\n"
      ],
      "execution_count": 0,
      "outputs": [
        {
          "output_type": "stream",
          "text": [
            "x= -0.8654740331 f(x)=0 迭代次數n= 4\n"
          ],
          "name": "stdout"
        }
      ]
    },
    {
      "cell_type": "markdown",
      "metadata": {
        "id": "s5wPqJQSOWXF",
        "colab_type": "text"
      },
      "source": [
        "## Secant method"
      ]
    },
    {
      "cell_type": "markdown",
      "metadata": {
        "id": "Tj0WhTA1OZSl",
        "colab_type": "text"
      },
      "source": [
        "牛頓法用切線割線法用割線，取函數線上的兩個點a點b，找出通過點a與點b交於x軸的切線點的x座標，代入函數得到新點，原點b變作點a新點當作點b，持續迭代縮小範圍找出答案，計算次數與步驟較牛頓法多但不須微分，若取的點不夠靠近答案可能會做更久，割線呈水平狀時也可能會做不出來"
      ]
    },
    {
      "cell_type": "code",
      "metadata": {
        "id": "pYIPr95IB7ZO",
        "colab_type": "code",
        "outputId": "6a5f77c1-07d1-4f30-d4d2-7d94b585fcf9",
        "colab": {
          "base_uri": "https://localhost:8080/",
          "height": 34
        }
      },
      "source": [
        "i=2;a=-1;b=0;n=100;\n",
        "q0=f(a);\n",
        "q1=f(b);\n",
        "while i<=n:\n",
        "  p=b-q1*(b-a)/(q1-q0) ## 計算割線點\n",
        "  if abs(p-b)<0.0001:\n",
        "    print('x= %13.10f'%(p)+' f(x)=0 迭代次數n= %d'%(i))\n",
        "    break\n",
        "  i=i+1\n",
        "  a=b;q0=q1;b=p;q1=f(p);\n",
        "  if i==n:\n",
        "    print('method failed')\n"
      ],
      "execution_count": 0,
      "outputs": [
        {
          "output_type": "stream",
          "text": [
            "x= -0.8654740144 f(x)=0 迭代次數n= 8\n"
          ],
          "name": "stdout"
        }
      ]
    },
    {
      "cell_type": "markdown",
      "metadata": {
        "id": "AjAeqARhv-Qe",
        "colab_type": "text"
      },
      "source": [
        "## Neville's Iterated Interpolation"
      ]
    },
    {
      "cell_type": "markdown",
      "metadata": {
        "id": "PmC07j-I5LRz",
        "colab_type": "text"
      },
      "source": [
        "多項式插值的算法，利用插值的方式來逼近答案，算出來的Q"
      ]
    },
    {
      "cell_type": "code",
      "metadata": {
        "id": "n6lTPf6KLBIv",
        "colab_type": "code",
        "outputId": "e4c50ca4-2b58-4bfc-bc90-87bcdfdcb3de",
        "colab": {
          "base_uri": "https://localhost:8080/",
          "height": 102
        }
      },
      "source": [
        "x=[1,1.3,1.6,1.9,2.2]\n",
        "y=[0.7651977,0.620086,0.4554022,0.2818186,0.1103623]\n",
        "n=len(x);X=1.5;\n",
        "import numpy as np\n",
        "Q=np.zeros(shape=(n,n))\n",
        "for i in range(1,n+1):\n",
        "  Q[i-1][0] = y[i-1]\n",
        "\n",
        "for i in range(1,n):\n",
        "  for j in range(1,n):\n",
        "    if i<j:\n",
        "      Q[i][j] = 0\n",
        "    else :\n",
        "      Q[i][j]=((X-x[i-j])*Q[i][j-1]-(X-x[i])*Q[i-1][j-1])/(x[i]-x[i-j])\n",
        "print(Q)\n"
      ],
      "execution_count": 0,
      "outputs": [
        {
          "output_type": "stream",
          "text": [
            "[[0.7651977  0.         0.         0.         0.        ]\n",
            " [0.620086   0.52334487 0.         0.         0.        ]\n",
            " [0.4554022  0.5102968  0.51247148 0.         0.        ]\n",
            " [0.2818186  0.5132634  0.51128567 0.51181269 0.        ]\n",
            " [0.1103623  0.510427   0.51373613 0.51183021 0.51181999]]\n"
          ],
          "name": "stdout"
        }
      ]
    },
    {
      "cell_type": "markdown",
      "metadata": {
        "id": "hoTsCApY0VEC",
        "colab_type": "text"
      },
      "source": [
        "## Newton's Diveded Difference"
      ]
    },
    {
      "cell_type": "markdown",
      "metadata": {
        "id": "90gknCVj6eiP",
        "colab_type": "text"
      },
      "source": [
        "均差（Divided differences）是遞歸除法過程。在數值分析中，可用於計算牛頓多項式形式的多項式插值的係數，這邊算出來的F就是多項式插值的係數"
      ]
    },
    {
      "cell_type": "code",
      "metadata": {
        "id": "gKx0EkyZgpLe",
        "colab_type": "code",
        "outputId": "21e6343d-be06-4971-aec4-45462c221041",
        "colab": {
          "base_uri": "https://localhost:8080/",
          "height": 102
        }
      },
      "source": [
        "x=[1,1.3,1.6,1.9,2.2]\n",
        "y=[0.7651977,0.6200860,0.4554022,0.2818186,0.1103623]\n",
        "n=len(x);X=1.5;\n",
        "import numpy as np\n",
        "F=np.zeros(shape=(n,n))\n",
        "for i in range(1,n+1):\n",
        "  F[i-1][0] = y[i-1]\n",
        "for i in range(1,n):\n",
        "  for j in range(1,n):\n",
        "    if i<j:\n",
        "      F[i][j] = 0\n",
        "    else :\n",
        "      F[i][j] = (F[i][j-1]-F[i-1][j-1])/(x[i]-x[i-j])\n",
        "print(F)\n"
      ],
      "execution_count": 77,
      "outputs": [
        {
          "output_type": "stream",
          "text": [
            "[[ 0.7651977   0.          0.          0.          0.        ]\n",
            " [ 0.620086   -0.48370567  0.          0.          0.        ]\n",
            " [ 0.4554022  -0.548946   -0.10873389  0.          0.        ]\n",
            " [ 0.2818186  -0.578612   -0.04944333  0.0658784   0.        ]\n",
            " [ 0.1103623  -0.571521    0.01181833  0.06806852  0.0018251 ]]\n"
          ],
          "name": "stdout"
        }
      ]
    },
    {
      "cell_type": "code",
      "metadata": {
        "id": "rqpUXR9DTLPI",
        "colab_type": "code",
        "outputId": "22c634b8-e54c-46ac-87ce-0dd92764f789",
        "colab": {
          "base_uri": "https://localhost:8080/",
          "height": 34
        }
      },
      "source": [
        "P=np.zeros(shape=(n,1))\n",
        "pol=np.zeros(shape=(n,1))\n",
        "P[0] = F[0][0]\n",
        "pol[0] = 1\n",
        "sum=P[0]\n",
        "for i in range(1,n):\n",
        "  P[i] = (F[i][i])\n",
        "  pol[i]=pol[i-1]*(X-x[i-1]) ## 算(X-X_0)*...(X-X_k-1)\n",
        "  sum = sum + P[i]*pol[i]\n",
        "print(sum)\n",
        "\n"
      ],
      "execution_count": 0,
      "outputs": [
        {
          "output_type": "stream",
          "text": [
            "[0.51181999]\n"
          ],
          "name": "stdout"
        }
      ]
    },
    {
      "cell_type": "code",
      "metadata": {
        "id": "mjcv5qWyYn7V",
        "colab_type": "code",
        "outputId": "68de318f-1e75-44f5-f61b-91d17a34326e",
        "colab": {
          "base_uri": "https://localhost:8080/",
          "height": 34
        }
      },
      "source": [
        "## Forward-Difference\n",
        "P=np.zeros(shape=(n,1))\n",
        "h=0.3;s=1/3; ## 逼近1.1 (1.0+0.3*1/3)\n",
        "pol_f=np.zeros(shape=(n,1))\n",
        "P[0] = F[0][0]\n",
        "pol_f[0] = 1\n",
        "sum=P[0]\n",
        "for i in range(1,n):\n",
        "  P[i] = (F[i][i]) ## 取第一排\n",
        "  pol_f[i]= pol_f[i-1]*h*(s-i+1)\n",
        "  sum = sum + P[i]*pol_f[i]\n",
        "print(sum)\n"
      ],
      "execution_count": 0,
      "outputs": [
        {
          "output_type": "stream",
          "text": [
            "[0.71964599]\n"
          ],
          "name": "stdout"
        }
      ]
    },
    {
      "cell_type": "code",
      "metadata": {
        "id": "-42-AZVMd0ar",
        "colab_type": "code",
        "outputId": "4d6b0020-c12c-4550-fdff-36d725f5ca4a",
        "colab": {
          "base_uri": "https://localhost:8080/",
          "height": 34
        }
      },
      "source": [
        "## Backward-Difference\n",
        "P=np.zeros(shape=(n,1))\n",
        "h=0.3;s=-2/3; ## 逼近2.0 (2.2-0.3*2/3)\n",
        "pol_f=np.zeros(shape=(n,1))\n",
        "P[0] = F[4][0]\n",
        "pol_f[0] = 1\n",
        "sum=P[0]\n",
        "for i in range(1,n):\n",
        "  P[i] = (F[4][i]) ## 取最後一排\n",
        "  pol_f[i]= pol_f[i-1]*h*(s+i-1)\n",
        "  sum = sum + P[i]*pol_f[i]\n",
        "print(sum)\n"
      ],
      "execution_count": 0,
      "outputs": [
        {
          "output_type": "stream",
          "text": [
            "[0.22387536]\n"
          ],
          "name": "stdout"
        }
      ]
    },
    {
      "cell_type": "code",
      "metadata": {
        "id": "PuTcPoGFtst4",
        "colab_type": "code",
        "outputId": "2b995ed6-ec8e-4f19-a281-a6f3c6fed783",
        "colab": {
          "base_uri": "https://localhost:8080/",
          "height": 34
        }
      },
      "source": [
        "## Centered-difference \n",
        "P=np.zeros(shape=(n,1))\n",
        "h=0.3;s=-1/3; ## 逼近1.5 (1.6+0.3*-1/3)\n",
        "pol_f=np.zeros(shape=(n,1))\n",
        "P[0] = F[2][0]\n",
        "pol_f[0] = 1\n",
        "sum=P[0]\n",
        "for i in range(1,n):\n",
        "  if len(x)%2 == 1: ## x若為奇數個\n",
        "    if i%2 == 1: ## i是奇數會有偶數個非0數字\n",
        "      div = int((len(x)-i)/2) ## 這列有幾個非0數字\n",
        "      P[i] = (F[i-1+div][i])+(F[i+div][i]) ## 偶數個取兩個\n",
        "      if i == 1:\n",
        "        pol_f[i]= s*h/2\n",
        "      else :\n",
        "        pol_f[i] = pol_f[i-2]*((s**2)-(i//2)**2)*h**2\n",
        "    else :  ## i是偶數會有奇數個非0數字\n",
        "      div = (len(x)-i)//2  \n",
        "      P[i] = F[i+div][i] ## 奇數個取最中間的\n",
        "      if i == 2:\n",
        "        pol_f[i]= (s**2)*(h**2)\n",
        "      else :\n",
        "        pol_f[i] = pol_f[i-2]*((s**2)-((i/2)-1)**2)*h**2\n",
        "\n",
        "  else: ## x若為偶數個\n",
        "    if i%2 == 1: ## i是奇數會有奇數個非0數字\n",
        "      div = (len(x)-i)//2 ## 這列有幾個非0數字\n",
        "      P[i] = F[i+div][i] ## 奇數個取最中間的\n",
        "    else :  ## i是偶數會有偶數個非0數字\n",
        "      div = int((len(x)-i)/2) ## 這列有幾個非0數字\n",
        "      P[i] = (F[i-1+div][i])+(F[i+div][i]) ## 偶數個取兩個\n",
        "\n",
        "  \n",
        "  sum = sum + P[i]*pol_f[i]\n",
        "print(sum)"
      ],
      "execution_count": 0,
      "outputs": [
        {
          "output_type": "stream",
          "text": [
            "[0.51181999]\n"
          ],
          "name": "stdout"
        }
      ]
    },
    {
      "cell_type": "code",
      "metadata": {
        "id": "3G5DfGJHR6Fi",
        "colab_type": "code",
        "colab": {}
      },
      "source": [
        ""
      ],
      "execution_count": 0,
      "outputs": []
    },
    {
      "cell_type": "markdown",
      "metadata": {
        "id": "doT7VRxKZMEN",
        "colab_type": "text"
      },
      "source": [
        "### Cubic spline"
      ]
    },
    {
      "cell_type": "code",
      "metadata": {
        "id": "HGHR-9_FZV6j",
        "colab_type": "code",
        "colab": {}
      },
      "source": [
        "import math\n",
        "\n",
        "def F(x): ## function f\n",
        "  A = 1/(1+25*(x**2))\n",
        "  return A\n"
      ],
      "execution_count": 0,
      "outputs": []
    },
    {
      "cell_type": "code",
      "metadata": {
        "id": "nvUnI9E_Fiia",
        "colab_type": "code",
        "colab": {}
      },
      "source": [
        "n=4\n",
        "x = [-1,-0.5,0,0.5,1]\n",
        "a = []\n",
        "for i in range(n+1): ## a為f(x)\n",
        "  a.append(F(x[i]))\n",
        "FPO = 0.33\n",
        "FPN = -1.5"
      ],
      "execution_count": 0,
      "outputs": []
    },
    {
      "cell_type": "code",
      "metadata": {
        "id": "6BNwNCA0KtH7",
        "colab_type": "code",
        "outputId": "795829bc-7d4e-4c75-a472-0f3558022bb4",
        "colab": {
          "base_uri": "https://localhost:8080/",
          "height": 102
        }
      },
      "source": [
        "a"
      ],
      "execution_count": 91,
      "outputs": [
        {
          "output_type": "execute_result",
          "data": {
            "text/plain": [
              "[0.038461538461538464,\n",
              " 0.13793103448275862,\n",
              " 1.0,\n",
              " 0.13793103448275862,\n",
              " 0.038461538461538464]"
            ]
          },
          "metadata": {
            "tags": []
          },
          "execution_count": 91
        }
      ]
    },
    {
      "cell_type": "code",
      "metadata": {
        "id": "lupu1YW_Lpx4",
        "colab_type": "code",
        "outputId": "339b3ead-b783-4b4b-f64b-2ed5bf52e5f7",
        "colab": {
          "base_uri": "https://localhost:8080/",
          "height": 34
        }
      },
      "source": [
        "h=[]\n",
        "for i in range(n):\n",
        "  h.append(x[i+1]-x[i])\n",
        "h"
      ],
      "execution_count": 92,
      "outputs": [
        {
          "output_type": "execute_result",
          "data": {
            "text/plain": [
              "[0.5, 0.5, 0.5, 0.5]"
            ]
          },
          "metadata": {
            "tags": []
          },
          "execution_count": 92
        }
      ]
    },
    {
      "cell_type": "code",
      "metadata": {
        "id": "xALpHVzaqsq0",
        "colab_type": "code",
        "outputId": "f2fcf9cb-dd1f-4a10-fac5-c07bafb15b9c",
        "colab": {
          "base_uri": "https://localhost:8080/",
          "height": 34
        }
      },
      "source": [
        "alpha=[]\n",
        "for i in range(1,n):\n",
        "  alpha.append((3*(a[i+1]-a[i])/h[i])-(3*(a[i]-a[i-1])/h[i-1]))\n",
        "alpha"
      ],
      "execution_count": 93,
      "outputs": [
        {
          "output_type": "execute_result",
          "data": {
            "text/plain": [
              "[4.575596816976128, -10.344827586206897, 4.575596816976128]"
            ]
          },
          "metadata": {
            "tags": []
          },
          "execution_count": 93
        }
      ]
    },
    {
      "cell_type": "code",
      "metadata": {
        "id": "hCoqRagSuyrl",
        "colab_type": "code",
        "colab": {}
      },
      "source": [
        "l=[]\n",
        "u=[]\n",
        "z=[]\n",
        "for i in range(n+1):\n",
        "  if i==0:\n",
        "    l.append(1)\n",
        "    u.append(0)\n",
        "    z.append(0)\n",
        "  elif i==n:\n",
        "    l.append(1)\n",
        "    z.append(0)    \n",
        "  else:\n",
        "    l.append(2*(x[i+1]-x[i-1])-h[i-1]*u[i-1])\n",
        "    u.append(h[i]/l[i])\n",
        "    z.append((alpha[i-1]-h[i-1]*z[i-1])/l[i])\n"
      ],
      "execution_count": 0,
      "outputs": []
    },
    {
      "cell_type": "code",
      "metadata": {
        "id": "odRulT7wGKm1",
        "colab_type": "code",
        "colab": {}
      },
      "source": [
        "import numpy as np\n",
        "c = np.zeros(shape=(n+1,1))\n",
        "b = np.zeros(shape=(n+1,1))\n",
        "d = np.zeros(shape=(n+1,1))\n",
        "for j in range(n,-1,-1):\n",
        "  if j==n:\n",
        "    c[j]=0\n",
        "  else:\n",
        "    c[j] = z[j]-u[j]*c[j+1]\n",
        "    b[j] = ((a[j+1]-a[j])/h[j])-h[j]*(c[j+1]+2*c[j])/3\n",
        "    d[j] = (c[j+1]-c[j])/(3*h[j])"
      ],
      "execution_count": 0,
      "outputs": []
    },
    {
      "cell_type": "code",
      "metadata": {
        "id": "nYBdK1JF8DLR",
        "colab_type": "code",
        "colab": {
          "base_uri": "https://localhost:8080/",
          "height": 289
        },
        "outputId": "adae4674-8e7b-4334-aff3-e58cedc3f9f2"
      },
      "source": [
        "print(a)\n",
        "print(b)\n",
        "print(c)\n",
        "print(d)"
      ],
      "execution_count": 101,
      "outputs": [
        {
          "output_type": "stream",
          "text": [
            "[0.038461538461538464, 0.13793103448275862, 1.0, 0.13793103448275862, 0.038461538461538464]\n",
            "[[-4.83137552e-01]\n",
            " [ 1.56309208e+00]\n",
            " [ 2.22044605e-16]\n",
            " [-1.56309208e+00]\n",
            " [ 0.00000000e+00]]\n",
            "[[ 0.        ]\n",
            " [ 4.09245926]\n",
            " [-7.21864343]\n",
            " [ 4.09245926]\n",
            " [ 0.        ]]\n",
            "[[ 2.72830618]\n",
            " [-7.54073513]\n",
            " [ 7.54073513]\n",
            " [-2.72830618]\n",
            " [ 0.        ]]\n"
          ],
          "name": "stdout"
        }
      ]
    },
    {
      "cell_type": "code",
      "metadata": {
        "id": "P0x-jasAHlVQ",
        "colab_type": "code",
        "colab": {
          "base_uri": "https://localhost:8080/",
          "height": 266
        },
        "outputId": "d60477c0-e4d2-45fd-ab29-2339bbed591c"
      },
      "source": [
        "import matplotlib.pyplot as plt\n",
        "import numpy as np\n",
        "x = np.arange(-1,-0.5)\n",
        "s1 = 1+1.466*x+0.25228*x**3\n",
        "plt.plot(x,s1)\n",
        "plt.show()"
      ],
      "execution_count": 2,
      "outputs": [
        {
          "output_type": "display_data",
          "data": {
            "image/png": "[encoded data removed]",
            "text/plain": [
              "<Figure size 432x288 with 1 Axes>"
            ]
          },
          "metadata": {
            "tags": [],
            "needs_background": "light"
          }
        }
      ]
    },
    {
      "cell_type": "markdown",
      "metadata": {
        "id": "j0XKuL5Ky6Kz",
        "colab_type": "text"
      },
      "source": [
        "## Clamped Cubic Spline"
      ]
    },
    {
      "cell_type": "code",
      "metadata": {
        "id": "s3HJo-RczpcZ",
        "colab_type": "code",
        "colab": {}
      },
      "source": [
        "## Input\n",
        "n=3\n",
        "x = [27.7,28,29,30]\n",
        "a = [4.1,4.3,4.1,3]\n",
        "FPO = 0.33\n",
        "FPN = -1.5"
      ],
      "execution_count": 0,
      "outputs": []
    },
    {
      "cell_type": "code",
      "metadata": {
        "id": "rjHPbEpe3ViV",
        "colab_type": "code",
        "colab": {
          "base_uri": "https://localhost:8080/",
          "height": 34
        },
        "outputId": "1dfa8566-049c-410f-ff51-0b7ae001416d"
      },
      "source": [
        "a"
      ],
      "execution_count": 8,
      "outputs": [
        {
          "output_type": "execute_result",
          "data": {
            "text/plain": [
              "[4.1, 4.3, 4.1, 3]"
            ]
          },
          "metadata": {
            "tags": []
          },
          "execution_count": 8
        }
      ]
    },
    {
      "cell_type": "code",
      "metadata": {
        "id": "Dlh2XimR3WSA",
        "colab_type": "code",
        "colab": {
          "base_uri": "https://localhost:8080/",
          "height": 34
        },
        "outputId": "92c48147-1d48-4e14-8d0f-ce9bfdb5f8dd"
      },
      "source": [
        "h=[]\n",
        "for i in range(n):\n",
        "  h.append(x[i+1]-x[i])\n",
        "h"
      ],
      "execution_count": 9,
      "outputs": [
        {
          "output_type": "execute_result",
          "data": {
            "text/plain": [
              "[0.3000000000000007, 1, 1]"
            ]
          },
          "metadata": {
            "tags": []
          },
          "execution_count": 9
        }
      ]
    },
    {
      "cell_type": "code",
      "metadata": {
        "id": "bAPBaplfZaSn",
        "colab_type": "code",
        "colab": {
          "base_uri": "https://localhost:8080/",
          "height": 85
        },
        "outputId": "ec4a96b0-7895-42eb-a9da-c801433d035d"
      },
      "source": [
        "alpha=[]\n",
        "for i in range(n+1):\n",
        "  if i==0:\n",
        "    alpha.append((3*(a[1]-a[0])/h[0])-3*FPO)\n",
        "  elif i==n:\n",
        "    alpha.append(3*FPN-3*(a[n]-a[n-1])/h[n-1])\n",
        "  else:\n",
        "    alpha.append((3*(a[i+1]-a[i])/h[i])-(3*(a[i]-a[i-1])/h[i-1]))\n",
        "  \n",
        "alpha"
      ],
      "execution_count": 12,
      "outputs": [
        {
          "output_type": "execute_result",
          "data": {
            "text/plain": [
              "[1.0099999999999971,\n",
              " -2.599999999999998,\n",
              " -2.6999999999999984,\n",
              " -1.200000000000001]"
            ]
          },
          "metadata": {
            "tags": []
          },
          "execution_count": 12
        }
      ]
    },
    {
      "cell_type": "code",
      "metadata": {
        "id": "gKSLhBZMcome",
        "colab_type": "code",
        "colab": {}
      },
      "source": [
        "l=[]\n",
        "u=[]\n",
        "z=[]\n",
        "for i in range(n+1):\n",
        "  if i==0:\n",
        "    l.append(2*h[0])\n",
        "    u.append(0.5)\n",
        "    z.append(alpha[0]/l[0])\n",
        "  elif i==n:\n",
        "    l.append(h[n-1]*(2-u[n-1]))\n",
        "    z.append((alpha[n]-h[i-1]*z[n-1])/l[n])    \n",
        "  else:\n",
        "    l.append(2*(x[i+1]-x[i-1])-h[i-1]*u[i-1])\n",
        "    u.append(h[i]/l[i])\n",
        "    z.append((alpha[i-1]-h[i-1]*z[i-1])/l[i])"
      ],
      "execution_count": 0,
      "outputs": []
    },
    {
      "cell_type": "code",
      "metadata": {
        "id": "ar6VF753fLA2",
        "colab_type": "code",
        "colab": {}
      },
      "source": [
        "import numpy as np\n",
        "c = np.zeros(shape=(n+1,1))\n",
        "b = np.zeros(shape=(n+1,1))\n",
        "d = np.zeros(shape=(n+1,1))\n",
        "for j in range(n,-1,-1):\n",
        "  if j==n:\n",
        "    c[j]=z[n]\n",
        "  else:\n",
        "    c[j] = z[j]-u[j]*c[j+1]\n",
        "    b[j] = ((a[j+1]-a[j])/h[j])-h[j]*(c[j+1]+2*c[j])/3\n",
        "    d[j] = (c[j+1]-c[j])/(3*h[j])"
      ],
      "execution_count": 0,
      "outputs": []
    },
    {
      "cell_type": "code",
      "metadata": {
        "id": "Bu14zt07feRc",
        "colab_type": "code",
        "colab": {
          "base_uri": "https://localhost:8080/",
          "height": 238
        },
        "outputId": "76ffed6c-5f62-42ed-b097-dd3ca4ec7133"
      },
      "source": [
        "print(a)\n",
        "print(b)\n",
        "print(c)\n",
        "print(d)"
      ],
      "execution_count": 15,
      "outputs": [
        {
          "output_type": "stream",
          "text": [
            "[4.1, 4.3, 4.1, 3]\n",
            "[[ 0.33      ]\n",
            " [-0.29372937]\n",
            " [-0.54323432]\n",
            " [ 0.        ]]\n",
            "[[ 1.43465347]\n",
            " [ 0.49735974]\n",
            " [-0.71353135]\n",
            " [-0.24323432]]\n",
            "[[-1.04143748]\n",
            " [-0.40363036]\n",
            " [ 0.15676568]\n",
            " [ 0.        ]]\n"
          ],
          "name": "stdout"
        }
      ]
    },
    {
      "cell_type": "code",
      "metadata": {
        "id": "nuz7N7bAflTz",
        "colab_type": "code",
        "colab": {}
      },
      "source": [
        ""
      ],
      "execution_count": 0,
      "outputs": []
    }
  ]
}